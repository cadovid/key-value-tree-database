{
 "cells": [
  {
   "cell_type": "markdown",
   "metadata": {},
   "source": [
    "## Implementing an efficient Key-Value Database through tree data structures\n",
    "\n",
    "In this project, we'll use a [B-tree](https://en.wikipedia.org/wiki/B-tree) data structure as a building block for a fully functioning key-value store.\n",
    "\n",
    "Trees generally allow elements to have more than one successor. We use the term binary when the number of successors is at most equal to two. In a tree, an element can have more than one successor. We call the elements in a tree __nodes__, and successors are called __children__. We call the top node the __root__ of the tree. Nodes that don't have children (no successors) are called __leaves__. The reason why we call this data structure a tree is that it somewhat resembles an upside-down tree.\n",
    "\n",
    "B-trees allows us to store key-value pairs like a dictionary. However, they also allow us to perform range searches that dictionaries do not allow. A range search corresponds to a query where we want to retrieve all entries for which the key falls within a given range. Unlike binary trees, B-trees aren't necessarily binary. This means that a node can have more than two children.\n",
    "\n",
    "A key-value store is a database that operates similar to a Python dictionary. Our key-value store will work like a Python dictionary, but it will also allow users to perform range queries. Our goal will be to create an easy-to-use, flexible, and adaptable key value store that other developers could use in their projects.\n",
    "\n",
    "There are multiple implementations of the key-value store used in production-grade systems worldwide. Some examples of open-source implementations are Redis, CouchDB, Mongo, and Cassandra (which uses a B-tree as the underlying data structure). \n",
    "\n",
    "### 1. Building the necessary structures\n",
    "\n",
    "#### 1.1 Previous classes: Node"
   ]
  },
  {
   "cell_type": "code",
   "execution_count": 1,
   "metadata": {},
   "outputs": [],
   "source": [
    "import bisect\n",
    "\n",
    "class Node:\n",
    "\n",
    "    def __init__(self, keys=None, values=None, children=None, parent=None):\n",
    "        self.keys = keys or []\n",
    "        self.values = values or []\n",
    "        self.parent = parent\n",
    "        self.set_children(children)\n",
    "        \n",
    "    def set_children(self, children):\n",
    "        self.children = children or []\n",
    "        for child in self.children:\n",
    "            child.parent = self\n",
    "\n",
    "    def is_leaf(self):\n",
    "        return len(self.children) == 0\n",
    "\n",
    "    def contains_key(self, key):\n",
    "        return key in self.keys\n",
    "\n",
    "    def get_value(self, key):\n",
    "        for i, k in enumerate(self.keys):\n",
    "            if k == key:\n",
    "                return self.values[i]\n",
    "        return None\n",
    "\n",
    "    def get_insert_index(self, key):\n",
    "        return bisect.bisect(self.keys, key)\n",
    "\n",
    "    def insert_entry(self, key, value):\n",
    "        insert_index = self.get_insert_index(key)\n",
    "        self.keys.insert(insert_index, key)\n",
    "        self.values.insert(insert_index, value)\n",
    "        return insert_index\n",
    "\n",
    "    def split(self):\n",
    "        if self.parent is None:\n",
    "            return self.split_no_parent()\n",
    "        return self.split_with_parent()\n",
    "\n",
    "    def split_no_parent(self):\n",
    "        split_index = len(self) // 2\n",
    "        key_to_move_up = self.keys[split_index]\n",
    "        value_to_move_up = self.values[split_index]\n",
    "        # Create right node\n",
    "        right_node = Node(self.keys[split_index+1:], self.values[split_index+1:], self.children[split_index+1:])\n",
    "        # Update left node (self)\n",
    "        self.keys = self.keys[:split_index]\n",
    "        self.values = self.values[:split_index]\n",
    "        self.children = self.children[:split_index+1]\n",
    "        # Create parent\n",
    "        parent = Node([key_to_move_up], [value_to_move_up], [self, right_node])\n",
    "        return parent\n",
    "\n",
    "    def insert_child(self, insert_index, child):\n",
    "        self.children.insert(insert_index, child)\n",
    "        child.parent = self\n",
    "\n",
    "    def split_with_parent(self):\n",
    "        split_index = len(self) // 2\n",
    "        key_to_move_up = self.keys[split_index]\n",
    "        value_to_move_up = self.values[split_index]\n",
    "        # Create right node\n",
    "        right_node = Node(self.keys[split_index+1:], self.values[split_index+1:], self.children[split_index+1:])\n",
    "        # Update left node (self)\n",
    "        self.keys = self.keys[:split_index]\n",
    "        self.values = self.values[:split_index]\n",
    "        self.children = self.children[:split_index+1]\n",
    "        # Add new child to parent\n",
    "        insert_index = self.parent.insert_entry(key_to_move_up, value_to_move_up)\n",
    "        self.parent.insert_child(insert_index + 1, right_node)\n",
    "        return self.parent\n",
    "\n",
    "    def __len__(self):\n",
    "        return len(self.values)"
   ]
  },
  {
   "cell_type": "markdown",
   "metadata": {},
   "source": [
    "#### 1.2 Previous classes: B-tree"
   ]
  },
  {
   "cell_type": "code",
   "execution_count": 2,
   "metadata": {},
   "outputs": [],
   "source": [
    "class BTree:\n",
    "    \n",
    "    def __init__(self, split_threshold):\n",
    "        self.root = Node()\n",
    "        self.split_threshold = split_threshold\n",
    "        self.height = 0\n",
    "        self.size = 0\n",
    "\n",
    "    def __len__(self):\n",
    "        return self.size\n",
    "\n",
    "    def _find_node(self, current_node, key):\n",
    "        if current_node.contains_key(key):\n",
    "            return current_node\n",
    "        if current_node.is_leaf():\n",
    "            return None\n",
    "        child_index = current_node.get_insert_index(key)\n",
    "        return self._find_node(current_node.children[child_index], key)\n",
    "\n",
    "    def contains(self, key):\n",
    "        node = self._find_node(self.root, key)\n",
    "        if node is None:\n",
    "            return False\n",
    "        return True\n",
    "\n",
    "    def _add(self, current_node, key, value):\n",
    "        if current_node.is_leaf():\n",
    "            current_node.insert_entry(key, value)\n",
    "        else:\n",
    "            child_index = current_node.get_insert_index(key)\n",
    "            self._add(current_node.children[child_index], key, value)\n",
    "        if len(current_node) > self.split_threshold:\n",
    "            parent = current_node.split()\n",
    "            if current_node == self.root:\n",
    "                self.root = parent\n",
    "                self.height += 1\n",
    "\n",
    "    def add(self, key, value):\n",
    "        self._add(self.root, key, value)\n",
    "        self.size += 1\n",
    "\n",
    "    def get_value(self, key):\n",
    "        node = self._find_node(self.root, key)\n",
    "        if node is None:\n",
    "            return None\n",
    "        return node.get_value(key)"
   ]
  },
  {
   "cell_type": "markdown",
   "metadata": {},
   "source": [
    "#### 1.3 Main class: KVStore"
   ]
  },
  {
   "cell_type": "code",
   "execution_count": 3,
   "metadata": {},
   "outputs": [],
   "source": [
    "class KVStore(BTree):\n",
    "    \n",
    "    def __init__(self):\n",
    "        super().__init__(split_threshold=2)\n",
    "        \n",
    "    def add(self, key, value):\n",
    "        node = self._find_node(self.root, key)\n",
    "        if node is None:\n",
    "            super().add(key, value)\n",
    "        else:\n",
    "            for i, k in enumerate(node.keys):\n",
    "                if key == k:\n",
    "                    node.values[i] = value\n",
    "                    \n",
    "    def __getitem__(self, key):\n",
    "        return self.get_value(key)\n",
    "    \n",
    "    def __setitem__(self, key, value):\n",
    "        return self.add(key, value)\n",
    "    \n",
    "    def __contains__(self, key):\n",
    "        return self.contains(key)\n",
    "    \n",
    "    def _range_query(self, range_start, range_end, current_node, min_key, max_key):\n",
    "        if range_start > max_key or range_end < min_key:\n",
    "            return []\n",
    "        results = []\n",
    "        for i, key in enumerate(current_node.keys):\n",
    "            if range_start <= key and key <= range_end:\n",
    "                results.append(current_node.values[i])\n",
    "        if not current_node.is_leaf():\n",
    "            for i, child in enumerate(current_node.children):\n",
    "                new_min_key = current_node.keys[i - 1] if i > 0 else min_key\n",
    "                new_max_key = current_node.keys[i] if i < len(current_node) else max_key\n",
    "                results += self._range_query(range_start, range_end, child, new_min_key, new_max_key)\n",
    "        return results \n",
    "\n",
    "    def range_query(self, range_start, range_end):\n",
    "        return self._range_query(range_start, range_end, self.root, float('-inf'), float('inf'))"
   ]
  },
  {
   "cell_type": "markdown",
   "metadata": {},
   "source": [
    "### 2. Testing the implementation\n",
    "\n",
    "First, let's ensure that we can add values to the KVStore and that if we use repeated keys, the values get replaced."
   ]
  },
  {
   "cell_type": "code",
   "execution_count": 4,
   "metadata": {},
   "outputs": [],
   "source": [
    "kv = KVStore()\n",
    "kv.add(1, 'hello')\n",
    "kv.add(2, 'world')\n",
    "\n",
    "assert kv.split_threshold == 2, \"The split is not equal to 2\"\n",
    "assert kv.get_value(1) == 'hello', \"Wrong test 1\"\n",
    "assert kv.get_value(2) == 'world', \"Wrong test 2\"\n",
    "\n",
    "kv.add(1, 'goodbye')\n",
    "\n",
    "assert kv.get_value(1) == 'goodbye', \"Wrong test 3\""
   ]
  },
  {
   "cell_type": "markdown",
   "metadata": {},
   "source": [
    "By now, we know that we can use the key-value store to add entries and retrieve values.\n",
    "\n",
    "We have made KVStore easier to use by allowing users to use the bracket syntax to add entries and retrieve values. Let's check this behaviour."
   ]
  },
  {
   "cell_type": "code",
   "execution_count": 5,
   "metadata": {},
   "outputs": [],
   "source": [
    "kv[3] = 'this'\n",
    "kv[4] = 'is'\n",
    "\n",
    "assert 'this' == kv[3], \"Wrong test 4\"\n",
    "assert 'is' == kv[4], \"Wrong test 5\"\n",
    "\n",
    "kv[3] = 'and'\n",
    "\n",
    "assert 'and' == kv[3], \"Wrong test 6\""
   ]
  },
  {
   "cell_type": "markdown",
   "metadata": {},
   "source": [
    "Another nice feature of the dictionary to have is the ability to use the in operator to check whether a given key is stored. We have performed this implementation and we will check it."
   ]
  },
  {
   "cell_type": "code",
   "execution_count": 6,
   "metadata": {},
   "outputs": [],
   "source": [
    "assert 1 in kv, \"Wrong test 7\""
   ]
  },
  {
   "cell_type": "markdown",
   "metadata": {},
   "source": [
    "So far, we've implemented and checked the same functionality as a dictionary. Now it is time to make it more powerful by implementing range queries. Let's check this implementation."
   ]
  },
  {
   "cell_type": "code",
   "execution_count": 7,
   "metadata": {},
   "outputs": [],
   "source": [
    "assert kv.range_query(2, 4) == ['world', 'and', 'is'], \"Wrong test 8\""
   ]
  },
  {
   "cell_type": "markdown",
   "metadata": {},
   "source": [
    "When we're dealing with new data structures, one way to test them is to compare them with a simpler implementation that we know is correct. We perform the same operations on both and see if both provide the same results.\n",
    "\n",
    "Here below is an implementation of a key-value store that uses a dictionary as the base data structure. We will use it to test the implementation of the new structure."
   ]
  },
  {
   "cell_type": "code",
   "execution_count": 8,
   "metadata": {},
   "outputs": [],
   "source": [
    "class DictKVStore(dict):\n",
    "\n",
    "    def range_query(self, range_start, range_end):\n",
    "        result = []\n",
    "        for key in self.keys():\n",
    "            if range_start <= key and key <= range_end:\n",
    "                result.append(self[key])\n",
    "        return result"
   ]
  },
  {
   "cell_type": "code",
   "execution_count": 9,
   "metadata": {},
   "outputs": [],
   "source": [
    "import random\n",
    "\n",
    "def generate_randoms(start_range, end_range, samples):\n",
    "    try:\n",
    "        return random.sample(range(start_range, end_range), samples)\n",
    "    except ValueError:\n",
    "        print('Sample size exceeded population size.')\n",
    "    \n",
    "\n",
    "    \n",
    "dict_kv = DictKVStore()\n",
    "custom_kv = KVStore()\n",
    "random_values = generate_randoms(1, 100, 10)\n",
    "\n",
    "for i in random_values:\n",
    "    dict_kv[i] = i\n",
    "    custom_kv[i] = i\n",
    "\n",
    "for range_start, range_end in [(1, 15), (32, 58), (62, 85), (90, 100)]:\n",
    "    dict_res = sorted(dict_kv.range_query(range_start, range_end))\n",
    "    custom_res = sorted(custom_kv.range_query(range_start, range_end))\n",
    "    assert dict_res == custom_res, \"Both data structures does not return the same range query result.\""
   ]
  },
  {
   "cell_type": "markdown",
   "metadata": {},
   "source": [
    "Note that when we compare the result of a range query, we need to sort the values beforehand because the data structures can return the values in a different order.\n",
    "\n",
    "### 3. Performance testing\n",
    "\n",
    "The main reason to implement a new data structure to perform these operations having a much simpler implementation (Python dictionary) is the performance of range queries. \n",
    "\n",
    "While there are several ways to compare the performance of both data structures, we will follow these steps:\n",
    "\n",
    "- Generate many entries (about 50,000 should be enough).\n",
    "- Generate many query intervals. It's better to generate in a way that increases the number of query results from 1 to some given value. This way, we can see the impact of the number of results in the performance gained.\n",
    "- For each query, compute the ratio between the runtime using the dictionary-based implementation and the B-tree-based implementation. A ratio of 1 means that both took the same time, a ratio of 2 means that the B-tree implementation was two times faster, and so on.\n",
    "- Plot the runtime ratios to better visualize the results.\n"
   ]
  },
  {
   "cell_type": "code",
   "execution_count": 10,
   "metadata": {},
   "outputs": [],
   "source": [
    "import time\n",
    "\n",
    "dict_kv = DictKVStore()\n",
    "custom_kv = KVStore()\n",
    "random_entries_keys = generate_randoms(1, 99999, 50000)\n",
    "random_entries_values = generate_randoms(1, 99999, 50000)\n",
    "\n",
    "for k, v in zip(random_entries_keys, random_entries_values):\n",
    "    dict_kv[k] = v\n",
    "    custom_kv[k] = v\n",
    "\n",
    "random_queries = generate_randoms(1, 99999, 1000)\n",
    "rand_queries = []\n",
    "\n",
    "for i in range(1000):\n",
    "    start_range = random_queries[i]\n",
    "    end_range = random_queries[i] + i\n",
    "    rand_queries.append((start_range, end_range))"
   ]
  },
  {
   "cell_type": "code",
   "execution_count": 11,
   "metadata": {},
   "outputs": [
    {
     "data": {
      "image/png": "[encoded data removed]",
      "text/plain": [
       "<Figure size 600x400 with 1 Axes>"
      ]
     },
     "metadata": {},
     "output_type": "display_data"
    }
   ],
   "source": [
    "time_ratios = []\n",
    "\n",
    "for range_start, range_end in rand_queries:\n",
    "    start = time.time()\n",
    "    dict_res = dict_kv.range_query(range_start, range_end)\n",
    "    end = time.time()\n",
    "    runtime_dict = end - start\n",
    "    \n",
    "    start = time.time()\n",
    "    custom_res = custom_kv.range_query(range_start, range_end)\n",
    "    end = time.time()\n",
    "    runtime_res = end - start\n",
    "    \n",
    "    runtime = runtime_dict / runtime_res\n",
    "    time_ratios.append(runtime)\n",
    "    \n",
    "%matplotlib inline\n",
    "import matplotlib.pyplot as plt\n",
    "plt.plot(time_ratios)\n",
    "plt.xlabel('Query range result size')\n",
    "plt.ylabel('Runtime ratio')\n",
    "plt.show()"
   ]
  },
  {
   "cell_type": "markdown",
   "metadata": {},
   "source": [
    "Analysing the results obtained, it can be seen that the new data structure is much faster than the standard Python dictionary implementation in obtaining results through a query. This speed is much more significant for small query ranges, while, as the ranges increase, the response times of both approaches converge."
   ]
  }
 ],
 "metadata": {
  "kernelspec": {
   "display_name": "Python 3",
   "language": "python",
   "name": "python3"
  },
  "language_info": {
   "codemirror_mode": {
    "name": "ipython",
    "version": 3
   },
   "file_extension": ".py",
   "mimetype": "text/x-python",
   "name": "python",
   "nbconvert_exporter": "python",
   "pygments_lexer": "ipython3",
   "version": "3.8.2"
  }
 },
 "nbformat": 4,
 "nbformat_minor": 1
}
